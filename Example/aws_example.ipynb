{
 "cells": [
  {
   "cell_type": "code",
   "execution_count": 1,
   "metadata": {},
   "outputs": [],
   "source": [
    "from aws_s3_resource.s3_bucket_error import NumberRandomCharsException, NumberCharsBucketNameException\n",
    "from aws_s3_resource.s3_bucket import S3Bucket\n",
    "from aws_s3_resource.s3_object import S3Object\n",
    "import os\n",
    "\n"
   ]
  },
  {
   "cell_type": "markdown",
   "metadata": {},
   "source": [
    "# Bucket"
   ]
  },
  {
   "cell_type": "code",
   "execution_count": 2,
   "metadata": {},
   "outputs": [],
   "source": [
    "# bucket_name = S3Bucket.create_with_random_name_suffix('test-xyz')\n",
    "bucket_name = 'sealer-v2-development'"
   ]
  },
  {
   "cell_type": "code",
   "execution_count": null,
   "metadata": {},
   "outputs": [],
   "source": [
    "S3Bucket.create(bucket_name)"
   ]
  },
  {
   "cell_type": "code",
   "execution_count": null,
   "metadata": {
    "scrolled": true
   },
   "outputs": [],
   "source": [
    "S3Bucket.delete(bucket_name)"
   ]
  },
  {
   "cell_type": "code",
   "execution_count": null,
   "metadata": {},
   "outputs": [],
   "source": [
    "S3Bucket.list_all(as_generator=True)"
   ]
  },
  {
   "cell_type": "code",
   "execution_count": null,
   "metadata": {},
   "outputs": [],
   "source": [
    "S3Bucket.list_all(as_generator=False)"
   ]
  },
  {
   "cell_type": "code",
   "execution_count": null,
   "metadata": {},
   "outputs": [],
   "source": [
    "S3Bucket.list_all_names(as_generator=True)"
   ]
  },
  {
   "cell_type": "code",
   "execution_count": null,
   "metadata": {},
   "outputs": [],
   "source": [
    "S3Bucket.list_all_names(as_generator=False)"
   ]
  },
  {
   "cell_type": "code",
   "execution_count": null,
   "metadata": {},
   "outputs": [],
   "source": [
    "S3Bucket.is_available('test_bucket')"
   ]
  },
  {
   "cell_type": "code",
   "execution_count": null,
   "metadata": {},
   "outputs": [],
   "source": [
    "S3Bucket.num_buckets()"
   ]
  },
  {
   "cell_type": "code",
   "execution_count": null,
   "metadata": {},
   "outputs": [],
   "source": [
    "folder_name = ''\n",
    "\n",
    "bucket_name = ''\n",
    "\n",
    "S3Bucket.download(bucket_name, folder_name)"
   ]
  },
  {
   "cell_type": "markdown",
   "metadata": {},
   "source": [
    "# Object"
   ]
  },
  {
   "cell_type": "code",
   "execution_count": null,
   "metadata": {},
   "outputs": [],
   "source": [
    "file_name = 'dummy.png'\n",
    "file_path = os.path.join(os.getcwd(), file_name)"
   ]
  },
  {
   "cell_type": "code",
   "execution_count": null,
   "metadata": {},
   "outputs": [],
   "source": [
    "# From file_path\n",
    "bucket_name = 'to-be-deleted-dsad'\n",
    "\n",
    "file_dict = {\n",
    "    'file_path': file_path\n",
    "}\n",
    "S3Object.upload(bucket_name, file_dict, with_random_prefix=False)\n",
    "S3Object.upload(bucket_name, file_dict, with_random_prefix=True, num_random_chars=6)\n",
    "S3Object.upload(bucket_name, file_dict, with_random_prefix=True, num_random_chars=12)"
   ]
  },
  {
   "cell_type": "code",
   "execution_count": null,
   "metadata": {},
   "outputs": [],
   "source": [
    "# From file_bytes\n",
    "with open(file_name, 'rb') as f:\n",
    "    file_bytes = f.read()\n",
    "\n",
    "file_dict = {\n",
    "    'file_name': file_name,\n",
    "    'file_bytes': file_bytes\n",
    "}\n",
    "S3Object.upload(bucket_name, file_dict, with_random_prefix=False)\n",
    "S3Object.upload(bucket_name, file_dict, with_random_prefix=True, num_random_chars=6)\n",
    "S3Object.upload(bucket_name, file_dict, with_random_prefix=True, num_random_chars=12)"
   ]
  },
  {
   "cell_type": "code",
   "execution_count": null,
   "metadata": {},
   "outputs": [],
   "source": [
    "# From file object\n",
    "file_dict = {\n",
    "    'file_name': file_name,\n",
    "    'file_obj': open(file_name, 'rb')\n",
    "}\n",
    "S3Object.upload(bucket_name, file_dict, with_random_prefix=False)\n",
    "\n",
    "file_dict = {\n",
    "    'file_name': file_name,\n",
    "    'file_obj': open(file_name, 'rb')\n",
    "}\n",
    "\n",
    "S3Object.upload(bucket_name, file_dict, with_random_prefix=True, num_random_chars=6)\n",
    "\n",
    "file_dict = {\n",
    "    'file_name': file_name,\n",
    "    'file_obj': open(file_name, 'rb')\n",
    "}\n",
    "S3Object.upload(bucket_name, file_dict, with_random_prefix=True, num_random_chars=12)"
   ]
  },
  {
   "cell_type": "code",
   "execution_count": null,
   "metadata": {},
   "outputs": [],
   "source": [
    "# Download\n",
    "bucket_name = 'to-be-deleted-dsad'\n",
    "file_path = 'dele\\dummy.png'\n",
    "object_key = 'dummy.png'\n",
    "\n",
    "file_dict = {\n",
    "    'file_path': file_path\n",
    "}\n",
    "\n",
    "S3Object.download(bucket_name, object_key, file_dict)"
   ]
  },
  {
   "cell_type": "code",
   "execution_count": null,
   "metadata": {},
   "outputs": [],
   "source": [
    "# Download the file bytes\n",
    "bucket_name = 'to-be-deleted-dsad'\n",
    "file_path = '6342128ae522-dummy.png'\n",
    "object_key = 'dummy_aws.png'\n",
    "\n",
    "# object_key = file_name\n",
    "file_bytes = S3Object.download(bucket_name, object_key)\n",
    "with open('dele//dummy_aws_bytes.png', 'wb') as f:\n",
    "    f.write(file_bytes)"
   ]
  },
  {
   "cell_type": "code",
   "execution_count": null,
   "metadata": {},
   "outputs": [],
   "source": [
    "# Download to a file object\n",
    "object_key = file_name\n",
    "with open('dummy_aws_obj.png', 'wb') as f:\n",
    "    file_dict = {\n",
    "        'file_obj': f\n",
    "        }\n",
    "    \n",
    "    S3Object.download(bucket_name, object_key, file_dict)"
   ]
  },
  {
   "cell_type": "code",
   "execution_count": null,
   "metadata": {},
   "outputs": [],
   "source": [
    "# Delete\n",
    "S3Object.delete(bucket_name, file_name)"
   ]
  },
  {
   "cell_type": "code",
   "execution_count": null,
   "metadata": {},
   "outputs": [],
   "source": [
    "S3Object.list_all(bucket_name, as_generator=False)"
   ]
  },
  {
   "cell_type": "code",
   "execution_count": null,
   "metadata": {},
   "outputs": [],
   "source": [
    "objects = S3Object.list_all(bucket_name, as_generator=True)"
   ]
  },
  {
   "cell_type": "code",
   "execution_count": null,
   "metadata": {},
   "outputs": [],
   "source": [
    "S3Object.list_all_keys(bucket_name, as_generator=False)"
   ]
  },
  {
   "cell_type": "code",
   "execution_count": 3,
   "metadata": {},
   "outputs": [
    {
     "data": {
      "text/plain": "<generator object S3Object.list_all_keys.<locals>.<genexpr> at 0x7f8503e894c0>"
     },
     "execution_count": 3,
     "metadata": {},
     "output_type": "execute_result"
    }
   ],
   "source": [
    "S3Object.list_all_keys(bucket_name, as_generator=True)"
   ]
  },
  {
   "cell_type": "code",
   "execution_count": null,
   "metadata": {},
   "outputs": [],
   "source": [
    "# Check if a file is available\n",
    "object_key = file_name\n",
    "S3Object.is_available(bucket_name, object_key)"
   ]
  },
  {
   "cell_type": "code",
   "execution_count": null,
   "metadata": {},
   "outputs": [],
   "source": [
    "S3Object.num_objects(bucket_name)"
   ]
  }
 ],
 "metadata": {
  "kernelspec": {
   "display_name": "Python 3",
   "language": "python",
   "name": "python3"
  },
  "language_info": {
   "codemirror_mode": {
    "name": "ipython",
    "version": 3
   },
   "file_extension": ".py",
   "mimetype": "text/x-python",
   "name": "python",
   "nbconvert_exporter": "python",
   "pygments_lexer": "ipython3",
   "version": "3.6.11"
  }
 },
 "nbformat": 4,
 "nbformat_minor": 2
}